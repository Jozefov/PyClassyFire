{
 "cells": [
  {
   "metadata": {},
   "cell_type": "markdown",
   "source": [
    "# PyClassyFire Tutorial: Classifying Chemical Compounds Using the ClassyFire API\n",
    "\n",
    "\n",
    "## Introduction\n",
    "\n",
    "Welcome to the **PyClassyFire** tutorial! This guide will walk you through the process of classifying a large set of chemical compounds using the [ClassyFire](http://classyfire.wishartlab.com/) API. We'll utilize the `PyClassyFire` package, which provides a command-line interface (CLI) and programmatic access to the ClassyFire service, enabling efficient and scalable classification of chemical structures.\n",
    "\n",
    "By the end of this tutorial, you'll be able to:\n",
    "\n",
    "1. **Preprocess your SMILES data**: Prepare your unique SMILES strings for classification.\n",
    "2. **Submit classification jobs**: Use the `PyClassyFire` package to send your data to the ClassyFire API.\n",
    "3. **Retrieve and process results**: Collect the classification results and merge them with your original data.\n",
    "4. **Save the annotated data**: Store the enriched dataset for further analysis.\n",
    "\n",
    "Let's get started!\n",
    "\n",
    "## Prerequisites\n",
    "\n",
    "Before diving into the tutorial, ensure you have the following:\n",
    "\n",
    "- **Conda Environment**: A Conda environment named `classyfire_env` with all necessary dependencies installed.\n",
    "- **PyClassyFire Package**: Installed and accessible within your Conda environment.\n",
    "- **Unique SMILES Data**: A TSV file containing approximately 16,000 unique SMILES strings located at `/Users/macbook/CODE/PyClassyFire/data/unique_valid_smiles_no_header.tsv`.\n",
    "\n",
    "> **Note:** This tutorial assumes that the Conda environment and `PyClassyFire` package are already set up. If not, please refer to the [repository's README](https://github.com/yourusername/PyClassyFire) for setup instructions.\n",
    "\n",
    "## Table of Contents\n",
    "\n",
    "1. [Importing Necessary Libraries](#importing-libraries)\n",
    "2. [Loading and Exploring the Data](#loading-data)\n",
    "3. [Preparing the SMILES Data for Classification](#preparing-data)\n",
    "4. [Submitting Classification Jobs to ClassyFire API](#submitting-jobs)\n",
    "5. [Monitoring Job Progress](#monitoring-progress)\n",
    "6. [Retrieving and Processing Results](#retrieving-results)\n",
    "7. [Saving the Annotated Data](#saving-data)\n",
    "8. [Conclusion](#conclusion)\n"
   ],
   "id": "82b5bab971f2733b"
  },
  {
   "cell_type": "code",
   "id": "initial_id",
   "metadata": {
    "collapsed": true,
    "ExecuteTime": {
     "end_time": "2025-01-02T10:29:49.371312Z",
     "start_time": "2025-01-02T10:29:48.928096Z"
    }
   },
   "source": [
    "import os\n",
    "import pandas as pd\n",
    "import json\n",
    "\n",
    "from fontTools.subset import intersect\n",
    "\n",
    "from classyfire_cli.src.utils import MoleCule, load_existing_results, save_intermediate_results, merge_intermediate_files, check_all_smiles_present\n",
    "from classyfire_cli.src.batch import process_batches_with_saving_and_retry"
   ],
   "outputs": [],
   "execution_count": 1
  },
  {
   "metadata": {
    "ExecuteTime": {
     "end_time": "2025-01-02T10:29:49.381158Z",
     "start_time": "2025-01-02T10:29:49.379072Z"
    }
   },
   "cell_type": "code",
   "source": [
    "# Define paths\n",
    "smiles_file_path = '../data/unique_valid_smiles_no_header.tsv'\n",
    "output_dir = '../data/intermediate_results/'\n",
    "final_output_path = '../data/final_classification_results.json'"
   ],
   "id": "6545871a47e06cba",
   "outputs": [],
   "execution_count": 2
  },
  {
   "metadata": {
    "ExecuteTime": {
     "end_time": "2025-01-02T10:29:50.979861Z",
     "start_time": "2025-01-02T10:29:49.384808Z"
    }
   },
   "cell_type": "code",
   "source": [
    "# Load SMILES data\n",
    "smiles_df = pd.read_csv(smiles_file_path, sep='\\t', header=None, names=['SMILES']).dropna()\n",
    "\n",
    "# Canonicalize SMILES\n",
    "smiles_df['Canonical_SMILES'] = smiles_df['SMILES'].apply(\n",
    "    lambda x: MoleCule.from_smiles(x).canonical_smiles if x else None\n",
    ").dropna()"
   ],
   "id": "afbafdb7a69c2e6a",
   "outputs": [],
   "execution_count": 3
  },
  {
   "metadata": {
    "ExecuteTime": {
     "end_time": "2025-01-02T10:29:51.027148Z",
     "start_time": "2025-01-02T10:29:51.024341Z"
    }
   },
   "cell_type": "code",
   "source": [
    "# Remove invalid entries\n",
    "invalid_smiles = smiles_df['Canonical_SMILES'].isnull().sum()\n",
    "print(f\"Number of invalid SMILES after canonicalization: {invalid_smiles}\")\n",
    "\n",
    "if invalid_smiles > 0:\n",
    "    smiles_df = smiles_df.dropna(subset=['Canonical_SMILES'])\n",
    "    print(f\"Removed {invalid_smiles} invalid SMILES entries.\")"
   ],
   "id": "54e7162949f396e4",
   "outputs": [
    {
     "name": "stdout",
     "output_type": "stream",
     "text": [
      "Number of invalid SMILES after canonicalization: 0\n"
     ]
    }
   ],
   "execution_count": 4
  },
  {
   "metadata": {
    "ExecuteTime": {
     "end_time": "2025-01-02T10:29:51.099141Z",
     "start_time": "2025-01-02T10:29:51.095560Z"
    }
   },
   "cell_type": "code",
   "source": [
    "# Reset index after cleaning\n",
    "smiles_df.reset_index(drop=True, inplace=True)\n",
    "\n",
    "# Extract the list of canonical SMILES\n",
    "canonical_smiles_list = smiles_df['Canonical_SMILES'].tolist()\n",
    "canonical_smiles_list = list(set(canonical_smiles_list))"
   ],
   "id": "ddd2aeb08beeb1e3",
   "outputs": [],
   "execution_count": 5
  },
  {
   "metadata": {
    "ExecuteTime": {
     "end_time": "2025-01-02T10:29:51.148152Z",
     "start_time": "2025-01-02T10:29:51.146129Z"
    }
   },
   "cell_type": "code",
   "source": [
    "# Define parameters\n",
    "batch_size = 100          # Number of SMILES per job\n",
    "save_interval = 20        # Save intermediate results every 20 batches\n",
    "output_dir = '/Users/macbook/CODE/PyClassyFire/data/intermediate_results/'\n",
    "max_retries = 3           # Maximum number of retries for failed batches\n",
    "retry_delay = 10         # Delay between retries in seconds (5 minutes)"
   ],
   "id": "2e2d3d4f8b60398a",
   "outputs": [],
   "execution_count": 6
  },
  {
   "metadata": {
    "jupyter": {
     "is_executing": true
    },
    "ExecuteTime": {
     "start_time": "2025-01-02T10:53:39.490002Z"
    }
   },
   "cell_type": "code",
   "source": [
    "# Process the batches with resumption and retry logic\n",
    "intermediate_files = process_batches_with_saving_and_retry(\n",
    "    smiles_list=canonical_smiles_list,\n",
    "    batch_size=batch_size,\n",
    "    output_dir=output_dir,\n",
    "    max_retries=max_retries,\n",
    "    retry_delay=retry_delay\n",
    ")"
   ],
   "id": "1dc92d621e1c6491",
   "outputs": [
    {
     "name": "stdout",
     "output_type": "stream",
     "text": [
      "All  smiles: 13984\n",
      "Already processed SMILES: 5960\n",
      "Remaining SMILES to process: 8228\n",
      "Remaining unique SMILES to process after removing duplicates: 8228\n",
      "Total remaining batches to process: 83\n"
     ]
    },
    {
     "name": "stderr",
     "output_type": "stream",
     "text": [
      "\n",
      "Processing Batches:   0%|          | 0/83 [00:00<?, ?it/s]\u001B[A"
     ]
    },
    {
     "name": "stdout",
     "output_type": "stream",
     "text": [
      "Submitted Batch 61 with Query ID 12021720\n"
     ]
    },
    {
     "name": "stderr",
     "output_type": "stream",
     "text": [
      "\n",
      "Processing Batches:   1%|          | 1/83 [01:27<1:59:01, 87.09s/it]\u001B[A"
     ]
    },
    {
     "name": "stdout",
     "output_type": "stream",
     "text": [
      "Batch 61 completed with 100 molecules.\n",
      "Saved intermediate results to /Users/macbook/CODE/PyClassyFire/data/intermediate_results/intermediate_61.json\n",
      "Submitted Batch 62 with Query ID 12021721\n"
     ]
    },
    {
     "name": "stderr",
     "output_type": "stream",
     "text": [
      "\n",
      "Processing Batches:   2%|▏         | 2/83 [03:01<2:03:29, 91.47s/it]\u001B[A"
     ]
    },
    {
     "name": "stdout",
     "output_type": "stream",
     "text": [
      "Batch 62 completed with 100 molecules.\n",
      "Saved intermediate results to /Users/macbook/CODE/PyClassyFire/data/intermediate_results/intermediate_62.json\n",
      "Submitted Batch 63 with Query ID 12021723\n"
     ]
    },
    {
     "name": "stderr",
     "output_type": "stream",
     "text": [
      "\n",
      "Processing Batches:   4%|▎         | 3/83 [04:38<2:05:20, 94.01s/it]\u001B[A"
     ]
    },
    {
     "name": "stdout",
     "output_type": "stream",
     "text": [
      "Batch 63 completed with 100 molecules.\n",
      "Saved intermediate results to /Users/macbook/CODE/PyClassyFire/data/intermediate_results/intermediate_63.json\n",
      "Submitted Batch 64 with Query ID 12021724\n"
     ]
    },
    {
     "name": "stderr",
     "output_type": "stream",
     "text": [
      "ERROR:root:Batch 64: Error encountered: 500 Server Error: Internal Server Error for url: http://classyfire.wishartlab.com/queries/12021724.json. Retrying (1/3) after 10 seconds...\n"
     ]
    },
    {
     "name": "stdout",
     "output_type": "stream",
     "text": [
      "Batch 64: Error encountered: 500 Server Error: Internal Server Error for url: http://classyfire.wishartlab.com/queries/12021724.json. Retrying (1/3) after 10 seconds...\n",
      "Submitted Batch 64 with Query ID 12021726\n"
     ]
    },
    {
     "name": "stderr",
     "output_type": "stream",
     "text": [
      "ERROR:root:Batch 64: Error encountered: 500 Server Error: Internal Server Error for url: http://classyfire.wishartlab.com/queries/12021726.json. Retrying (2/3) after 10 seconds...\n"
     ]
    },
    {
     "name": "stdout",
     "output_type": "stream",
     "text": [
      "Batch 64: Error encountered: 500 Server Error: Internal Server Error for url: http://classyfire.wishartlab.com/queries/12021726.json. Retrying (2/3) after 10 seconds...\n",
      "Submitted Batch 64 with Query ID 12021728\n"
     ]
    },
    {
     "name": "stderr",
     "output_type": "stream",
     "text": [
      "ERROR:root:Batch 64: Error encountered: 500 Server Error: Internal Server Error for url: http://classyfire.wishartlab.com/queries/12021728.json. Retrying (3/3) after 10 seconds...\n"
     ]
    },
    {
     "name": "stdout",
     "output_type": "stream",
     "text": [
      "Batch 64: Error encountered: 500 Server Error: Internal Server Error for url: http://classyfire.wishartlab.com/queries/12021728.json. Retrying (3/3) after 10 seconds...\n",
      "Submitted Batch 64 with Query ID 12021730\n"
     ]
    },
    {
     "name": "stderr",
     "output_type": "stream",
     "text": [
      "ERROR:root:Batch 64: Maximum retries reached. Error: 500 Server Error: Internal Server Error for url: http://classyfire.wishartlab.com/queries/12021730.json\n",
      "\n",
      "Processing Batches:   5%|▍         | 4/83 [10:28<4:16:44, 195.00s/it]\u001B[A"
     ]
    },
    {
     "name": "stdout",
     "output_type": "stream",
     "text": [
      "Batch 64: Maximum retries reached. Skipping batch.\n",
      "Saved intermediate results to /Users/macbook/CODE/PyClassyFire/data/intermediate_results/intermediate_64.json\n",
      "Submitted Batch 65 with Query ID 12021732\n"
     ]
    },
    {
     "name": "stderr",
     "output_type": "stream",
     "text": [
      "ERROR:root:Batch 65: Error encountered: 500 Server Error: Internal Server Error for url: http://classyfire.wishartlab.com/queries/12021732.json. Retrying (1/3) after 10 seconds...\n"
     ]
    },
    {
     "name": "stdout",
     "output_type": "stream",
     "text": [
      "Batch 65: Error encountered: 500 Server Error: Internal Server Error for url: http://classyfire.wishartlab.com/queries/12021732.json. Retrying (1/3) after 10 seconds...\n",
      "Submitted Batch 65 with Query ID 12021734\n"
     ]
    },
    {
     "name": "stderr",
     "output_type": "stream",
     "text": [
      "ERROR:root:Batch 65: Error encountered: 500 Server Error: Internal Server Error for url: http://classyfire.wishartlab.com/queries/12021734.json. Retrying (2/3) after 10 seconds...\n"
     ]
    },
    {
     "name": "stdout",
     "output_type": "stream",
     "text": [
      "Batch 65: Error encountered: 500 Server Error: Internal Server Error for url: http://classyfire.wishartlab.com/queries/12021734.json. Retrying (2/3) after 10 seconds...\n",
      "Submitted Batch 65 with Query ID 12021735\n"
     ]
    },
    {
     "name": "stderr",
     "output_type": "stream",
     "text": [
      "ERROR:root:Batch 65: Error encountered: 500 Server Error: Internal Server Error for url: http://classyfire.wishartlab.com/queries/12021735.json. Retrying (3/3) after 10 seconds...\n"
     ]
    },
    {
     "name": "stdout",
     "output_type": "stream",
     "text": [
      "Batch 65: Error encountered: 500 Server Error: Internal Server Error for url: http://classyfire.wishartlab.com/queries/12021735.json. Retrying (3/3) after 10 seconds...\n",
      "Submitted Batch 65 with Query ID 12021736\n"
     ]
    },
    {
     "name": "stderr",
     "output_type": "stream",
     "text": [
      "ERROR:root:Batch 65: Maximum retries reached. Error: 500 Server Error: Internal Server Error for url: http://classyfire.wishartlab.com/queries/12021736.json\n",
      "\n",
      "Processing Batches:   6%|▌         | 5/83 [15:30<5:03:42, 233.63s/it]\u001B[A"
     ]
    },
    {
     "name": "stdout",
     "output_type": "stream",
     "text": [
      "Batch 65: Maximum retries reached. Skipping batch.\n",
      "Saved intermediate results to /Users/macbook/CODE/PyClassyFire/data/intermediate_results/intermediate_65.json\n",
      "Submitted Batch 66 with Query ID 12021737\n"
     ]
    },
    {
     "name": "stderr",
     "output_type": "stream",
     "text": [
      "\n",
      "Processing Batches:   7%|▋         | 6/83 [17:10<4:01:16, 188.00s/it]\u001B[A"
     ]
    },
    {
     "name": "stdout",
     "output_type": "stream",
     "text": [
      "Batch 66 completed with 100 molecules.\n",
      "Saved intermediate results to /Users/macbook/CODE/PyClassyFire/data/intermediate_results/intermediate_66.json\n",
      "Submitted Batch 67 with Query ID 12021738\n"
     ]
    },
    {
     "name": "stderr",
     "output_type": "stream",
     "text": [
      "\n",
      "Processing Batches:   8%|▊         | 7/83 [19:05<3:27:59, 164.20s/it]\u001B[A"
     ]
    },
    {
     "name": "stdout",
     "output_type": "stream",
     "text": [
      "Batch 67 completed with 100 molecules.\n",
      "Saved intermediate results to /Users/macbook/CODE/PyClassyFire/data/intermediate_results/intermediate_67.json\n",
      "Submitted Batch 68 with Query ID 12021740\n"
     ]
    },
    {
     "name": "stderr",
     "output_type": "stream",
     "text": [
      "\n",
      "Processing Batches:  10%|▉         | 8/83 [20:41<2:58:08, 142.51s/it]\u001B[A"
     ]
    },
    {
     "name": "stdout",
     "output_type": "stream",
     "text": [
      "Batch 68 completed with 100 molecules.\n",
      "Saved intermediate results to /Users/macbook/CODE/PyClassyFire/data/intermediate_results/intermediate_68.json\n",
      "Submitted Batch 69 with Query ID 12021741\n"
     ]
    },
    {
     "name": "stderr",
     "output_type": "stream",
     "text": [
      "\n",
      "Processing Batches:  11%|█         | 9/83 [22:17<2:37:44, 127.90s/it]\u001B[A"
     ]
    },
    {
     "name": "stdout",
     "output_type": "stream",
     "text": [
      "Batch 69 completed with 100 molecules.\n",
      "Saved intermediate results to /Users/macbook/CODE/PyClassyFire/data/intermediate_results/intermediate_69.json\n",
      "Submitted Batch 70 with Query ID 12021742\n"
     ]
    },
    {
     "name": "stderr",
     "output_type": "stream",
     "text": [
      "\n",
      "Processing Batches:  12%|█▏        | 10/83 [23:52<2:23:19, 117.80s/it]\u001B[A"
     ]
    },
    {
     "name": "stdout",
     "output_type": "stream",
     "text": [
      "Batch 70 completed with 100 molecules.\n",
      "Saved intermediate results to /Users/macbook/CODE/PyClassyFire/data/intermediate_results/intermediate_70.json\n",
      "Submitted Batch 71 with Query ID 12021743\n"
     ]
    },
    {
     "name": "stderr",
     "output_type": "stream",
     "text": [
      "\n",
      "Processing Batches:  13%|█▎        | 11/83 [25:40<2:17:59, 114.99s/it]\u001B[A"
     ]
    },
    {
     "name": "stdout",
     "output_type": "stream",
     "text": [
      "Batch 71 completed with 100 molecules.\n",
      "Saved intermediate results to /Users/macbook/CODE/PyClassyFire/data/intermediate_results/intermediate_71.json\n",
      "Submitted Batch 72 with Query ID 12021745\n"
     ]
    },
    {
     "name": "stderr",
     "output_type": "stream",
     "text": [
      "\n",
      "Processing Batches:  14%|█▍        | 12/83 [27:18<2:09:53, 109.77s/it]\u001B[A"
     ]
    },
    {
     "name": "stdout",
     "output_type": "stream",
     "text": [
      "Batch 72 completed with 100 molecules.\n",
      "Saved intermediate results to /Users/macbook/CODE/PyClassyFire/data/intermediate_results/intermediate_72.json\n",
      "Submitted Batch 73 with Query ID 12021746\n"
     ]
    },
    {
     "name": "stderr",
     "output_type": "stream",
     "text": [
      "ERROR:root:Batch 73: Error encountered: 500 Server Error: Internal Server Error for url: http://classyfire.wishartlab.com/queries/12021746.json. Retrying (1/3) after 10 seconds...\n"
     ]
    },
    {
     "name": "stdout",
     "output_type": "stream",
     "text": [
      "Batch 73: Error encountered: 500 Server Error: Internal Server Error for url: http://classyfire.wishartlab.com/queries/12021746.json. Retrying (1/3) after 10 seconds...\n",
      "Submitted Batch 73 with Query ID 12021747\n"
     ]
    },
    {
     "name": "stderr",
     "output_type": "stream",
     "text": [
      "ERROR:root:Batch 73: Error encountered: 500 Server Error: Internal Server Error for url: http://classyfire.wishartlab.com/queries/12021747.json. Retrying (2/3) after 10 seconds...\n"
     ]
    },
    {
     "name": "stdout",
     "output_type": "stream",
     "text": [
      "Batch 73: Error encountered: 500 Server Error: Internal Server Error for url: http://classyfire.wishartlab.com/queries/12021747.json. Retrying (2/3) after 10 seconds...\n",
      "Submitted Batch 73 with Query ID 12021748\n"
     ]
    },
    {
     "name": "stderr",
     "output_type": "stream",
     "text": [
      "ERROR:root:Batch 73: Error encountered: 500 Server Error: Internal Server Error for url: http://classyfire.wishartlab.com/queries/12021748.json. Retrying (3/3) after 10 seconds...\n"
     ]
    },
    {
     "name": "stdout",
     "output_type": "stream",
     "text": [
      "Batch 73: Error encountered: 500 Server Error: Internal Server Error for url: http://classyfire.wishartlab.com/queries/12021748.json. Retrying (3/3) after 10 seconds...\n",
      "Submitted Batch 73 with Query ID 12021750\n"
     ]
    },
    {
     "name": "stderr",
     "output_type": "stream",
     "text": [
      "ERROR:root:Batch 73: Maximum retries reached. Error: 500 Server Error: Internal Server Error for url: http://classyfire.wishartlab.com/queries/12021750.json\n",
      "\n",
      "Processing Batches:  16%|█▌        | 13/83 [32:45<3:24:44, 175.50s/it]\u001B[A"
     ]
    },
    {
     "name": "stdout",
     "output_type": "stream",
     "text": [
      "Batch 73: Maximum retries reached. Skipping batch.\n",
      "Saved intermediate results to /Users/macbook/CODE/PyClassyFire/data/intermediate_results/intermediate_73.json\n",
      "Submitted Batch 74 with Query ID 12021751\n"
     ]
    },
    {
     "name": "stderr",
     "output_type": "stream",
     "text": [
      "\n",
      "Processing Batches:  17%|█▋        | 14/83 [34:25<2:55:27, 152.58s/it]\u001B[A"
     ]
    },
    {
     "name": "stdout",
     "output_type": "stream",
     "text": [
      "Batch 74 completed with 100 molecules.\n",
      "Saved intermediate results to /Users/macbook/CODE/PyClassyFire/data/intermediate_results/intermediate_74.json\n",
      "Submitted Batch 75 with Query ID 12021752\n"
     ]
    },
    {
     "name": "stderr",
     "output_type": "stream",
     "text": [
      "\n",
      "Processing Batches:  18%|█▊        | 15/83 [36:03<2:34:25, 136.26s/it]\u001B[A"
     ]
    },
    {
     "name": "stdout",
     "output_type": "stream",
     "text": [
      "Batch 75 completed with 100 molecules.\n",
      "Saved intermediate results to /Users/macbook/CODE/PyClassyFire/data/intermediate_results/intermediate_75.json\n",
      "Submitted Batch 76 with Query ID 12021753\n"
     ]
    },
    {
     "name": "stderr",
     "output_type": "stream",
     "text": [
      "\n",
      "Processing Batches:  19%|█▉        | 16/83 [37:45<2:20:28, 125.81s/it]\u001B[A"
     ]
    },
    {
     "name": "stdout",
     "output_type": "stream",
     "text": [
      "Batch 76 completed with 100 molecules.\n",
      "Saved intermediate results to /Users/macbook/CODE/PyClassyFire/data/intermediate_results/intermediate_76.json\n",
      "Submitted Batch 77 with Query ID 12021755\n"
     ]
    },
    {
     "name": "stderr",
     "output_type": "stream",
     "text": [
      "\n",
      "Processing Batches:  20%|██        | 17/83 [39:22<2:09:00, 117.28s/it]\u001B[A"
     ]
    },
    {
     "name": "stdout",
     "output_type": "stream",
     "text": [
      "Batch 77 completed with 100 molecules.\n",
      "Saved intermediate results to /Users/macbook/CODE/PyClassyFire/data/intermediate_results/intermediate_77.json\n",
      "Submitted Batch 78 with Query ID 12021756\n"
     ]
    },
    {
     "name": "stderr",
     "output_type": "stream",
     "text": [
      "\n",
      "Processing Batches:  22%|██▏       | 18/83 [40:56<1:59:37, 110.43s/it]\u001B[A"
     ]
    },
    {
     "name": "stdout",
     "output_type": "stream",
     "text": [
      "Batch 78 completed with 100 molecules.\n",
      "Saved intermediate results to /Users/macbook/CODE/PyClassyFire/data/intermediate_results/intermediate_78.json\n",
      "Submitted Batch 79 with Query ID 12021757\n"
     ]
    },
    {
     "name": "stderr",
     "output_type": "stream",
     "text": [
      "\n",
      "Processing Batches:  23%|██▎       | 19/83 [42:34<1:53:30, 106.41s/it]\u001B[A"
     ]
    },
    {
     "name": "stdout",
     "output_type": "stream",
     "text": [
      "Batch 79 completed with 100 molecules.\n",
      "Saved intermediate results to /Users/macbook/CODE/PyClassyFire/data/intermediate_results/intermediate_79.json\n",
      "Submitted Batch 80 with Query ID 12021759\n"
     ]
    },
    {
     "name": "stderr",
     "output_type": "stream",
     "text": [
      "\n",
      "Processing Batches:  24%|██▍       | 20/83 [44:11<1:48:56, 103.75s/it]\u001B[A"
     ]
    },
    {
     "name": "stdout",
     "output_type": "stream",
     "text": [
      "Batch 80 completed with 100 molecules.\n",
      "Saved intermediate results to /Users/macbook/CODE/PyClassyFire/data/intermediate_results/intermediate_80.json\n",
      "Submitted Batch 81 with Query ID 12021761\n"
     ]
    },
    {
     "name": "stderr",
     "output_type": "stream",
     "text": [
      "\n",
      "Processing Batches:  25%|██▌       | 21/83 [45:49<1:45:16, 101.89s/it]\u001B[A"
     ]
    },
    {
     "name": "stdout",
     "output_type": "stream",
     "text": [
      "Batch 81 completed with 100 molecules.\n",
      "Saved intermediate results to /Users/macbook/CODE/PyClassyFire/data/intermediate_results/intermediate_81.json\n",
      "Submitted Batch 82 with Query ID 12021764\n"
     ]
    },
    {
     "name": "stderr",
     "output_type": "stream",
     "text": [
      "\n",
      "Processing Batches:  27%|██▋       | 22/83 [47:27<1:42:33, 100.89s/it]\u001B[A"
     ]
    },
    {
     "name": "stdout",
     "output_type": "stream",
     "text": [
      "Batch 82 completed with 100 molecules.\n",
      "Saved intermediate results to /Users/macbook/CODE/PyClassyFire/data/intermediate_results/intermediate_82.json\n",
      "Submitted Batch 83 with Query ID 12021767\n"
     ]
    },
    {
     "name": "stderr",
     "output_type": "stream",
     "text": [
      "\n",
      "Processing Batches:  28%|██▊       | 23/83 [49:14<1:42:33, 102.56s/it]\u001B[A"
     ]
    },
    {
     "name": "stdout",
     "output_type": "stream",
     "text": [
      "Batch 83 completed with 100 molecules.\n",
      "Saved intermediate results to /Users/macbook/CODE/PyClassyFire/data/intermediate_results/intermediate_83.json\n",
      "Submitted Batch 84 with Query ID 12021771\n"
     ]
    },
    {
     "name": "stderr",
     "output_type": "stream",
     "text": [
      "\n",
      "Processing Batches:  29%|██▉       | 24/83 [50:52<1:39:29, 101.18s/it]\u001B[A"
     ]
    },
    {
     "name": "stdout",
     "output_type": "stream",
     "text": [
      "Batch 84 completed with 100 molecules.\n",
      "Saved intermediate results to /Users/macbook/CODE/PyClassyFire/data/intermediate_results/intermediate_84.json\n",
      "Submitted Batch 85 with Query ID 12021774\n"
     ]
    },
    {
     "name": "stderr",
     "output_type": "stream",
     "text": [
      "\n",
      "Processing Batches:  30%|███       | 25/83 [52:26<1:35:57, 99.26s/it] \u001B[A"
     ]
    },
    {
     "name": "stdout",
     "output_type": "stream",
     "text": [
      "Batch 85 completed with 100 molecules.\n",
      "Saved intermediate results to /Users/macbook/CODE/PyClassyFire/data/intermediate_results/intermediate_85.json\n",
      "Submitted Batch 86 with Query ID 12021776\n"
     ]
    },
    {
     "name": "stderr",
     "output_type": "stream",
     "text": [
      "\n",
      "Processing Batches:  31%|███▏      | 26/83 [54:02<1:33:19, 98.23s/it]\u001B[A"
     ]
    },
    {
     "name": "stdout",
     "output_type": "stream",
     "text": [
      "Batch 86 completed with 100 molecules.\n",
      "Saved intermediate results to /Users/macbook/CODE/PyClassyFire/data/intermediate_results/intermediate_86.json\n",
      "Submitted Batch 87 with Query ID 12021779\n"
     ]
    },
    {
     "name": "stderr",
     "output_type": "stream",
     "text": [
      "\n",
      "Processing Batches:  33%|███▎      | 27/83 [55:43<1:32:24, 99.01s/it]\u001B[A"
     ]
    },
    {
     "name": "stdout",
     "output_type": "stream",
     "text": [
      "Batch 87 completed with 100 molecules.\n",
      "Saved intermediate results to /Users/macbook/CODE/PyClassyFire/data/intermediate_results/intermediate_87.json\n",
      "Submitted Batch 88 with Query ID 12021783\n"
     ]
    },
    {
     "name": "stderr",
     "output_type": "stream",
     "text": [
      "\n",
      "Processing Batches:  34%|███▎      | 28/83 [57:15<1:28:50, 96.92s/it]\u001B[A"
     ]
    },
    {
     "name": "stdout",
     "output_type": "stream",
     "text": [
      "Batch 88 completed with 100 molecules.\n",
      "Saved intermediate results to /Users/macbook/CODE/PyClassyFire/data/intermediate_results/intermediate_88.json\n",
      "Submitted Batch 89 with Query ID 12021785\n"
     ]
    },
    {
     "name": "stderr",
     "output_type": "stream",
     "text": [
      "\n",
      "Processing Batches:  35%|███▍      | 29/83 [58:52<1:27:11, 96.88s/it]\u001B[A"
     ]
    },
    {
     "name": "stdout",
     "output_type": "stream",
     "text": [
      "Batch 89 completed with 100 molecules.\n",
      "Saved intermediate results to /Users/macbook/CODE/PyClassyFire/data/intermediate_results/intermediate_89.json\n",
      "Submitted Batch 90 with Query ID 12021788\n"
     ]
    }
   ],
   "execution_count": null
  },
  {
   "metadata": {
    "ExecuteTime": {
     "end_time": "2025-01-01T23:10:12.638305Z",
     "start_time": "2025-01-01T22:50:02.485096Z"
    }
   },
   "cell_type": "code",
   "source": [
    "# Merge the intermediate files into the final JSON\n",
    "merge_intermediate_files(output_dir, final_output_path)"
   ],
   "id": "b0886000b2169998",
   "outputs": [
    {
     "data": {
      "text/plain": [
       "13685"
      ]
     },
     "execution_count": 15,
     "metadata": {},
     "output_type": "execute_result"
    }
   ],
   "execution_count": 15
  },
  {
   "metadata": {},
   "cell_type": "code",
   "outputs": [],
   "execution_count": null,
   "source": [
    "# Check if all SMILES are present in the final output\n",
    "check_all_smiles_present(final_output_path, canonical_smiles_list)"
   ],
   "id": "e7a475239beffcae"
  },
  {
   "metadata": {},
   "cell_type": "code",
   "outputs": [],
   "execution_count": null,
   "source": "",
   "id": "29a859b20e5fe1d4"
  },
  {
   "metadata": {},
   "cell_type": "code",
   "outputs": [],
   "execution_count": null,
   "source": "",
   "id": "fe4f76ec59dad4b3"
  },
  {
   "metadata": {},
   "cell_type": "code",
   "outputs": [],
   "execution_count": null,
   "source": "",
   "id": "f3fc9830e9c6403e"
  },
  {
   "metadata": {},
   "cell_type": "code",
   "outputs": [],
   "execution_count": null,
   "source": "",
   "id": "dd8160584cf3f203"
  },
  {
   "metadata": {},
   "cell_type": "code",
   "outputs": [],
   "execution_count": null,
   "source": "",
   "id": "d7ef6c95200d9d0c"
  },
  {
   "metadata": {},
   "cell_type": "code",
   "outputs": [],
   "execution_count": null,
   "source": "",
   "id": "af66ac2609f80c7a"
  },
  {
   "metadata": {},
   "cell_type": "code",
   "outputs": [],
   "execution_count": null,
   "source": "",
   "id": "6d8e4ffc9a7f667e"
  },
  {
   "metadata": {},
   "cell_type": "code",
   "outputs": [],
   "execution_count": null,
   "source": "",
   "id": "21bec90048bc4e2"
  },
  {
   "metadata": {},
   "cell_type": "code",
   "outputs": [],
   "execution_count": null,
   "source": [
    "def merge_intermediate_results(intermediate_files):\n",
    "    \"\"\"\n",
    "    Merges multiple intermediate JSON result files into a single dictionary.\n",
    "    \"\"\"\n",
    "    merged_results = {}\n",
    "    for file in intermediate_files:\n",
    "        try:\n",
    "            with open(file, 'r') as f:\n",
    "                data = json.load(f)\n",
    "                merged_results.update(data)\n",
    "            print(f\"Successfully merged results from {file}\")\n",
    "        except Exception as e:\n",
    "            print(f\"Error merging results from {file}: {e}\")\n",
    "    return merged_results"
   ],
   "id": "dc9bdca23fccf99a"
  },
  {
   "metadata": {},
   "cell_type": "code",
   "outputs": [],
   "execution_count": null,
   "source": [
    "# Merge all intermediate results\n",
    "merged_results = merge_intermediate_results(intermediate_files)"
   ],
   "id": "3e46aa4945742ec7"
  },
  {
   "metadata": {},
   "cell_type": "code",
   "outputs": [],
   "execution_count": null,
   "source": [
    "# Display the number of classified SMILES\n",
    "classified_count = len(merged_results)\n",
    "print(f\"Total number of classified SMILES: {classified_count}\")\n",
    "\n",
    "# Convert the merged results dictionary to a DataFrame\n",
    "results_df = pd.DataFrame.from_dict(merged_results, orient='index')\n",
    "results_df.reset_index(inplace=True)\n",
    "results_df.rename(columns={'index': 'Canonical_SMILES'}, inplace=True)\n",
    "\n",
    "# Merge the classification results with the original SMILES DataFrame\n",
    "annotated_df = pd.merge(smiles_df, results_df, on='Canonical_SMILES', how='left')"
   ],
   "id": "55114f2112ee54c"
  },
  {
   "metadata": {},
   "cell_type": "code",
   "outputs": [],
   "execution_count": null,
   "source": [
    "\n",
    "# Handle unclassified SMILES\n",
    "unclassified = annotated_df['superclass'].isnull().sum()\n",
    "print(f\"Number of SMILES without classification: {unclassified}\")\n",
    "\n",
    "# Fill NaN values with 'Unknown'\n",
    "annotated_df[['superclass', 'class', 'subclass']] = annotated_df[['superclass', 'class', 'subclass']].fillna('Unknown')\n",
    "\n",
    "# Save the annotated DataFrame to a TSV file\n",
    "annotated_df.to_csv(final_output_path, sep='\\t', index=False)\n",
    "\n",
    "print(f\"Annotated data has been saved to {final_output_path}\")"
   ],
   "id": "67ae5471c400216d"
  },
  {
   "metadata": {},
   "cell_type": "code",
   "outputs": [],
   "execution_count": null,
   "source": "",
   "id": "28e7469ee2118b8"
  },
  {
   "metadata": {},
   "cell_type": "code",
   "outputs": [],
   "execution_count": null,
   "source": "",
   "id": "77ad7ac4166aaa1c"
  },
  {
   "metadata": {
    "ExecuteTime": {
     "end_time": "2025-01-01T20:51:33.375005Z",
     "start_time": "2025-01-01T20:51:33.371444Z"
    }
   },
   "cell_type": "code",
   "source": [
    "def analyze_structure(data, level=0):\n",
    "    \"\"\"Recursively analyze and print the structure of JSON data.\"\"\"\n",
    "    if isinstance(data, dict):\n",
    "        print(\" \" * level + f\"Object with keys: {list(data.keys())}\")\n",
    "        for key, value in data.items():\n",
    "            analyze_structure(value, level + 2)\n",
    "    elif isinstance(data, list):\n",
    "        print(\" \" * level + f\"List of {len(data)} items\")\n",
    "        if len(data) > 0:\n",
    "            analyze_structure(data[0], level + 2)  # Analyze the first item as representative\n",
    "    else:\n",
    "        print(\" \" * level + f\"Value type: {type(data).__name__}\")\n",
    "\n"
   ],
   "id": "afdc3fa695ec8852",
   "outputs": [],
   "execution_count": 8
  },
  {
   "metadata": {
    "ExecuteTime": {
     "end_time": "2025-01-01T20:51:36.018760Z",
     "start_time": "2025-01-01T20:51:36.010196Z"
    }
   },
   "cell_type": "code",
   "source": [
    "# Load the JSON file\n",
    "file_path = \"/Users/macbook/CODE/PyClassyFire/data/intermediate_results/intermediate_1.json\"  # Replace with your file's path\n",
    "with open(file_path, \"r\") as file:\n",
    "    json_data = json.load(file)\n",
    "\n",
    "# Analyze the JSON structure\n",
    "analyze_structure(json_data)"
   ],
   "id": "2550c36dbcfa512",
   "outputs": [
    {
     "name": "stdout",
     "output_type": "stream",
     "text": [
      "Object with keys: ['12021409']\n",
      "  List of 100 items\n",
      "    Object with keys: ['identifier', 'smiles', 'inchikey', 'kingdom', 'superclass', 'class', 'subclass', 'intermediate_nodes', 'direct_parent', 'alternative_parents', 'molecular_framework', 'substituents', 'description', 'external_descriptors', 'ancestors', 'predicted_chebi_terms', 'predicted_lipidmaps_terms', 'classification_version']\n",
      "      Value type: str\n",
      "      Value type: str\n",
      "      Value type: str\n",
      "      Object with keys: ['name', 'description', 'chemont_id', 'url']\n",
      "        Value type: str\n",
      "        Value type: str\n",
      "        Value type: str\n",
      "        Value type: str\n",
      "      Object with keys: ['name', 'description', 'chemont_id', 'url']\n",
      "        Value type: str\n",
      "        Value type: str\n",
      "        Value type: str\n",
      "        Value type: str\n",
      "      Object with keys: ['name', 'description', 'chemont_id', 'url']\n",
      "        Value type: str\n",
      "        Value type: str\n",
      "        Value type: str\n",
      "        Value type: str\n",
      "      Object with keys: ['name', 'description', 'chemont_id', 'url']\n",
      "        Value type: str\n",
      "        Value type: str\n",
      "        Value type: str\n",
      "        Value type: str\n",
      "      List of 0 items\n",
      "      Object with keys: ['name', 'description', 'chemont_id', 'url']\n",
      "        Value type: str\n",
      "        Value type: str\n",
      "        Value type: str\n",
      "        Value type: str\n",
      "      List of 27 items\n",
      "        Object with keys: ['name', 'description', 'chemont_id', 'url']\n",
      "          Value type: str\n",
      "          Value type: str\n",
      "          Value type: str\n",
      "          Value type: str\n",
      "      Value type: str\n",
      "      List of 43 items\n",
      "        Value type: str\n",
      "      Value type: str\n",
      "      List of 0 items\n",
      "      List of 51 items\n",
      "        Value type: str\n",
      "      List of 36 items\n",
      "        Value type: str\n",
      "      List of 1 items\n",
      "        Value type: str\n",
      "      Value type: str\n"
     ]
    }
   ],
   "execution_count": 9
  },
  {
   "metadata": {
    "ExecuteTime": {
     "end_time": "2025-01-01T23:17:25.411061Z",
     "start_time": "2025-01-01T23:17:25.395572Z"
    }
   },
   "cell_type": "code",
   "source": [
    "existing_smiles = load_existing_results(output_dir)\n",
    "print(f\"Already processed SMILES: {len(existing_smiles[0])}\")"
   ],
   "id": "b8b3148522350d69",
   "outputs": [
    {
     "name": "stdout",
     "output_type": "stream",
     "text": [
      "Already processed SMILES: 300\n"
     ]
    }
   ],
   "execution_count": 9
  },
  {
   "metadata": {
    "ExecuteTime": {
     "end_time": "2025-01-01T22:59:38.448221Z",
     "start_time": "2025-01-01T22:59:38.442291Z"
    }
   },
   "cell_type": "code",
   "source": "existing_smiles",
   "id": "c1d582c0a0f1d31f",
   "outputs": [
    {
     "data": {
      "text/plain": [
       "({'C(C=CC1=CC=CC=C1)N1CCN(CC1)C(C1=CC=CC=C1)C1=CC=CC=C1',\n",
       "  'C(CN(CC1=CC=CC=N1)CC1=CC=CC=N1)N(CC1=CC=CC=N1)CC1=CC=CC=N1',\n",
       "  'C(N1C=CN=C1)C1=CC(CN2C=CN=C2)=CC(CN2C=CN=C2)=C1',\n",
       "  'C1=CC=C(C=C1)C1=C2C=CC3=C(C=CN=C3C2=NC=C1)C1=CC=CC=C1',\n",
       "  'C1CN(CCN1)C1=CC=C(C=C1)C1=CN2N=CC(=C2N=C1)C1=CC=NC2=CC=CC=C12',\n",
       "  'CC#CC1(O)CCC2C3CCC4=CC(=O)CCC4=C3C(CC12C)C1=CC=C(C=C1)N(C)C',\n",
       "  'CC(=O)NCC1CN(C(=O)O1)C1=CC(F)=C(C=C1)N1CCN(CC1)C(=O)CO',\n",
       "  'CC(C)(C)NC(=O)COC1=CC=C(CNC2=CC3=C(NC(=O)N3)C=C2)C=C1',\n",
       "  'CC(C)(C)SC1=C(CC(C)(C)C(O)=O)N(CC2=CC=C(Cl)C=C2)C2=C1C=C(OCC1=NC3=CC=CC=C3C=C1)C=C2',\n",
       "  'CC(C)(CC1CC2=CC=CC=C2C1)NCC(O)COC1=C(C=CC(CCC(O)=O)=C1)C#N',\n",
       "  'CC(C)(OCc1nn(Cc2ccccc2)c2ccccc12)C(O)=O',\n",
       "  'CC(C)C(=O)OCC1(CO1)C1=C(OC(=O)C(C)C)C=C(C)C=C1',\n",
       "  'CC(C)C1=NOC(=N1)C1CCN(CC1)C1=C(C(NC2=C(F)C=C(C=C2)S(C)(=O)=O)=NC=N1)[N+]([O-])=O',\n",
       "  'CC(C)CC(N1CC2=CC=CC=C2C1=O)C(=O)NC1=CC=CC2=C1C=CN2',\n",
       "  'CC(C)OC1=CC=C(C=C1)C1=CN2N=CC(=C2N=C1)C1=CC=NC2=CC=CC=C12',\n",
       "  'CC(C1CCC2C3CC=C4CC(CC(O)C4(C)C3CCC12C)OC1OC(COC2OC(CO)C(O)C(O)C2O)C(O)C(O)C1O)C1CC(CO)=C(C)C(=O)O1',\n",
       "  'CC(CCC1=CC=CC=C1)NC(C)C(O)C1=CC=C(O)C=C1',\n",
       "  'CC(CCC1C(=C)C(CC2C(C)(C)C(O)CCC12C)OC1OCC(O)C(O)C1O)=CCO',\n",
       "  'CC(CO)NC(=O)C1=NC(=NC(=C1)C1=CC=C(OC(F)(F)F)C=C1)C1=CN=CC=C1',\n",
       "  'CC(N(C)C(=O)OC(C)(C)C)C(=O)NC(C1CCCCC1)C(=O)N1CCCC1C1=NC(=CS1)C(=O)C1=CC(O)=CC=C1',\n",
       "  'CC(OCC1(CCC2(CCC(=O)N2)CN1)C1=CC=CC=C1)C1=CC(=CC(=C1)C(F)(F)F)C(F)(F)F',\n",
       "  'CC(Sc1nc2ccccc2[nH]1)C(=O)NN=Cc1cc(Br)ccc1O',\n",
       "  'CC1(C)CC(CC(C)(C)N1)NC(=O)C(=O)NC1=CC=C(Br)C=C1',\n",
       "  'CC1(C)CC(CC(C)(C)N1)NC(=O)C(=O)NC1=CC=C(Cl)C=C1',\n",
       "  'CC1(C)CC(NC2=C1C=C(C=C2)C(=O)NS(=O)(=O)C1CC1)C1=CC(=CC=C1)N1CCOCC1',\n",
       "  'CC1(O)CCC2C(OC(=O)C2=C)C2C1CC(OC1OC(CO)C(O)C(O)C1O)C2=C',\n",
       "  'CC12CC3(O)OC(O1)C1(COC(=O)C4=CC=CC=C4)C3CC21OC1OC(COC(=O)C2=CC=CC=C2)C(O)C(O)C1O',\n",
       "  'CC1=C(C)C(NC2=NC(=NC(=N2)N2CCOCC2)N2CCOCC2)=CC=C1',\n",
       "  'CC1=C(C=C(NC(=O)C2=CC(=NC=C2)C(F)(F)F)C=C1)C1=CC(=NC(OCCO)=C1)N1CCOCC1',\n",
       "  'CC1=C(CC(O)=O)C2=C(C=CC(F)=C2)C1=CC1=CC=C(C=C1)S(C)=O',\n",
       "  'CC1=C(CCC(=O)NC(CCCNC(N)=O)C(O)=O)C(=O)OC2=C1C=CC(O)=C2',\n",
       "  'CC1=C2C=C(C=CC2=NN1)C1=CC(OCC(N)CC2=CNC3=CC=CC=C23)=CN=C1',\n",
       "  'CC1=CC(=NN=C1C(=O)N1CCN(CC1)C1=NC=CC=N1)C1=CC=CC=C1',\n",
       "  'CC1=CC2=C(C=C1)N=C(NC(=O)CC1=CC3=C(OCC3)C=C1)S2',\n",
       "  'CC1=CC=C(S1)C=NNC(=O)C1=CC=C(O1)C(=O)NN=CC1=CC=C(C)S1',\n",
       "  'CC1=CC=CC(=N1)C1=NN2CCCC2=C1C1=C2C=C(C=CC2=NC=C1)C(N)=O',\n",
       "  'CC1=CC=CC=C1NC1=NC=CC(=N1)C1CCCN(C1)C(=O)C1CCC1',\n",
       "  'CC1=NC(=CS1)C1=NC2=C(CN(CC2)C(=O)COC2=CC=C(Cl)C=C2)S1',\n",
       "  'CC1=NN(C(=O)C2=CN=CC=C2)C(C)=C1SC1=CC=C(Br)C=C1',\n",
       "  'CC1C(C)C(=O)OC2C(O)C(OC(C)=O)C3(COC(C)=O)C(OC(C)=O)C(=O)C4C(OC(C)=O)C3(OC4(C)COC(=O)C3=C1N=CC=C3)C2(C)O',\n",
       "  'CC1C2C(CC3=CNC4=CC=CC=C34)NC(=O)C22C(C=CCC(C)C=C(C)C(O)C(=O)C=CC2=O)C2OC12C',\n",
       "  'CC1C2C(CC3C4CCC5CC(CCC5(C)C4CCC23C)OC2OC(CO)C(O)C(O)C2OC2OC(CO)C(O)C(O)C2O)OC11CCC(C)CO1',\n",
       "  'CC1C2OC(=O)C1C1(C)C(C2O)C2(C)C(O)C(=O)C=C(C)C2CC1=O',\n",
       "  'CC1CC(N)CC(C1)C1=C(NC(=O)C2=NC(=C(F)C=C2)C2=C(F)C=CC=C2F)C=NC=C1',\n",
       "  'CC1CC(NC2=CC=C(Cl)C=C2)C2=C(C=CC(=C2)C2=CC=C(C=C2)C(=O)NCCOCCOCCOCC(=O)NC(C(=O)N2CC(O)CC2C(=O)NCC2=CC=C(C=C2)C2=C(C)N=CS2)C(C)(C)C)N1C(C)=O',\n",
       "  'CC1CC2=CC=CC=C2N1S(=O)(=O)C1=C(C)SC(=C1)C1=NC(C)=CS1',\n",
       "  'CC1CCCN(CCCNC(=O)C2=CC(CN3C4=CC=CC=C4C(=O)N4CCCC4C3=O)=CC=C2)C1',\n",
       "  'CC1CN(CC(C)N1)C1=NC=C(C(C)=C1)C1=CC=C(C=C1)C1=NC2=C(C=CN2C)C(=O)N1',\n",
       "  'CC1NC2N(C1=O)C1=CC=CC=C1C21CC2N3C(=O)C4=CC=CC=C4N=C3C(O1)N(C)C2=O',\n",
       "  'CC1OC(OC2C(OC(=O)C34CCC(C)(C)CC3C3=CCC5C6(C)CCC(OC7OC(C(O)C(O)C7OC7OC(CO)C(O)C(O)C7O)C(O)=O)C(C)(C=O)C6CCC5(C)C3(C)CC4O)OC(C)C(OC(C)=O)C2OC2OC(CO)C(O)C2O)C(O)C(O)C1OC1OCC(O)C(O)C1O',\n",
       "  'CC1OC(OC2C3OC3(CO)C3C2C=COC3OC2OC(CO)C(O)C(O)C2O)C(OC(C)=O)C(OC(=O)C=CC2=CC=CC=C2)C1OC(=O)C=CC1=CC=CC=C1',\n",
       "  'CC1OC(OC2COC(OC3CCC4(C)C(CCC5(C)C4CC=C4C6CC(C)(C)CCC6(CCC54C)C(=O)OC4OC(CO)C(O)C(O)C4O)C3(C)CO)C(O)C2OC2OC(CO)C(O)C(O)C2O)C(O)C(O)C1O',\n",
       "  'CCC(=C(C1=CC=C(O)C=C1)C1=CC=C(OCCNC)C=C1)C1=CC=CC=C1',\n",
       "  'CCC(=C(C1=CC=CC=C1)C1=CC=C(OCCNC)C=C1)C1=CC=CC=C1',\n",
       "  'CCC(C)C(N(C)C(=O)OCC1C2=CC=CC=C2C2=CC=CC=C12)C(O)=O',\n",
       "  'CCC(C)C1N(C(C(=O)N2CCOCC2)C2=COC(C)=N2)C(=O)C(NC1=O)C1CC2=CC=CC=C2C1',\n",
       "  'CCC(C)C=C(C)C=CC1=CC2=CC(=O)C(C)(O)C(OC(C)=O)C2CO1',\n",
       "  'CCC(C)NC(=O)CN1N=CC2=C(N(C)C(=O)CS2)C1=O',\n",
       "  'CCC(C1=CC=CC=C1)C1=C(O)C2=C(OC1=O)C=CC=C2',\n",
       "  'CCC(CC)NC(=O)CCC1CCN(CC1)C1=CC(NC2CC2)=NC=N1',\n",
       "  'CCC1=C2NC(C=C3NC(=CC4=NC(C(CCC(O)=O)C4C)=C(CC(=O)NC(CC(O)=O)C(O)=O)C4=NC(=C2)C(C)=C4C(O)=O)C(C)=C3C=C)=C1C',\n",
       "  'CCCCC(C)(CO)NC1=NC(N)=NC2=C1N=CC(F)=C2',\n",
       "  'CCCCCCC(=O)OC1(CCC2C3CCC4=CC(=O)CCC4C3CCC12C)C#C',\n",
       "  'CCCCCCCCCCCCCCCCOCC(COP(O)(=O)OCC[N+](C)(C)C)OC(C)=O',\n",
       "  'CCCCCCCCCCCCOC1OC(CO)C(OC2OC(CO)C(O)C(O)C2O)C(O)C1O',\n",
       "  'CCCS(=O)(=O)N1CCN(CC1)C1=NN=CC(=C1)N(C)C',\n",
       "  'CCN(CC)CCNC(=O)C1=CC=C(N)C=C1',\n",
       "  'CCN1C(CSC2=NC(C)=CC(C)=N2)=NC2=C1C=CC(NC(=O)C1=CN=CC=C1)=C2',\n",
       "  'CCN1C=CN=C1N1CCN(CC(=O)NCCOC)CC1',\n",
       "  'CCN=C1NC(NC(C)(C)C)=NC(Cl)=N1',\n",
       "  'CCNC(=O)C1=CC2=C(N=C(N)N=C2S1)C1=CC(OCCN2CCCC2)=C(Cl)C=C1Cl',\n",
       "  'CCOC(=O)C1=CC(NC(=O)CSC2=NN=C(C)N2CC2CCCO2)=CC=C1',\n",
       "  'CCOC(=O)C1=CC(NS(=O)(=O)C2=C(C)C=CC(=C2)C2=NNC(C)=C2)=CC=C1',\n",
       "  'CCOC(=O)CC1=NC2=C(N1)C=C(C=C2)N1CCN(C)CC1',\n",
       "  'CCOC1=C(C#N)C(N)=CC(NC(=O)CC2=C(OC)C=CC(OC)=C2)=N1',\n",
       "  'CCOC1=C2CN(C(=O)C2=C(OCC)C2=CC=CC=C12)C1=CC(F)=C(CC(O)=O)C=C1',\n",
       "  'CCOC1=CC=C(C=C1)C(=O)N1CCC2(CC1)NC(=O)C1=C(N2)C(Cl)=CC=C1',\n",
       "  'CCOC1=CC=C(NC(=O)C(CC2=CC=CC=C2)NC(=O)C2=NC(SCC)=NC=C2Cl)C=C1',\n",
       "  'CCOC1=CC=C(NC2=NC(=NC(NC3=CC=C(OCC)C=C3)=N2)N2CCOCC2)C=C1',\n",
       "  'CCOC1=NC2=CC=CC(C(=O)OCC3=C(C)OC(=O)O3)=C2N1CC1=CC=C(C=C1)C1=CC=CC=C1C1=NC(=O)ON1',\n",
       "  'CCOC1=NOC2=C1C=CC(OCCC1CCN(CC1)C1=NN=C(C)C=C1)=C2',\n",
       "  'CCn1cc(N2CCCC(C2)NC(=O)OC(C)(C)C)c(=O)n(CC)c1=O',\n",
       "  'CN(C)CCC(C1=CC=C(Br)C=C1)C1=CC=CC=N1',\n",
       "  'CN(C)CCNS(=O)(=O)CC1=CC(NC2=NC=CC(OC3=CC4=C(NC(C)=C4)C=C3)=N2)=CC=C1',\n",
       "  'CN(C)c1ccnc(n1)N1CCN(CC1)c1ncc(Br)cc1C(F)(F)F',\n",
       "  'CN(C1CCCCC1)C(=O)CCCOC1=CC2=C(NC(=O)C=C2)C=C1',\n",
       "  'CN(C1CCS(=O)(=O)C1)C(=O)c1ccc(COc2cccc(C)c2)o1',\n",
       "  'CN(C1CN(C1)c1nccnc1C#N)c1ncnc2ccsc12',\n",
       "  'CN(CC1=C(C)C2=CC=CC=C2O1)C(=O)C=CC1=CC2=C(NC(=O)CC2)N=C1',\n",
       "  'CN(CC1=CC(=CC=C1)C(F)(F)F)C(=O)C1=C(C)N=C2C=C(C)C=CN12',\n",
       "  'CN(CCc1noc(n1)-c1cc2cc(C)ccc2[nH]1)C(=O)c1cncc(Br)c1',\n",
       "  'CN1C(=O)C(O)=C(N=C1N1CCCCS1(=O)=O)C(=O)NCc1ccc(F)cc1',\n",
       "  'CN1C=C(C2=C1N=CN=C2N)C1=CC2=C(C=C1)N(CC2)C(=O)CC1=CC(=CC=C1)C(F)(F)F',\n",
       "  'CN1C=C(C2=CC=CC=C2C1=O)C1=C(OCC2CC2)C=CC(=C1)S(C)(=O)=O',\n",
       "  'CN1C=CC=C1C1=NNC(=C1)C(=O)NN=C(C)C1=CC=NC=C1',\n",
       "  'CN1C=NC(=C1C[N+](C)(C)CC=CC(=O)NC1=NC=C2N=CN=C(NC3=CC(Br)=C(Cl)C=C3)C2=C1)[N+]([O-])=O',\n",
       "  'CN1C=NC(CC(N)C(O)=O)=C1',\n",
       "  'CN1CCC2=CC(Cl)=C(O)C=C2C(C1)C1=CC=CC=C1',\n",
       "  'CN1CCN(CC1)C(=O)C1=CC=C(C=C1)N1N=C(C=C1C1=CC(=CC(=C1)C(C)(C)C)C(C)(C)C)C1=CC=C(C=C1)C(O)=O',\n",
       "  'CN1CCN(CC1)C1=NC(C)=NC2=C1N=C(N2C1CCOCC1)C1=CC=CC=C1Cl',\n",
       "  'CN1CCN(CC1)NC(=O)C1=CC(=NC2=CC=CC=C12)C1=CC=C(Cl)S1',\n",
       "  'CN1N=CC2=C(NC3=CC(C)=C(C)C=C3)N=C(N=C12)N1CCN(CCO)CC1',\n",
       "  'COC(=O)C(CC1=CC=CC=C1)NC(=O)C1=C(N=NS1)C1=CC=C(OC)C=C1',\n",
       "  'COC(=O)C(CC1=CC=CC=C1)NC(=O)CCC1NC(=O)C2=CC=CC=C2NC1=O',\n",
       "  'COC(=O)C1=CC(CN2C=NS(=O)(=O)C3=C2C=C(C)C=C3)=C(OC)C=C1',\n",
       "  'COC(=O)C1=COC(OC2OC(CO)C(O)C(O)C2O)C2C(CO)=CCC12O',\n",
       "  'COC(=O)C1=COC(OC2OC(CO)C(O)C(O)C2O)C2C1C(O)CC2(C)O',\n",
       "  'COC(=O)C1CCCN1C(=O)C1=CC(Cl)=C(OC2CCOCC2)N=C1',\n",
       "  'COC(=O)CCC(=O)CCCCCC(C)C(C)O',\n",
       "  'COC(CN1C=C(C(O)=O)C(=O)C(OC)=C1C(=O)OC)OC',\n",
       "  'COC1=C(C)C(OC(=O)C2=C(C)C(C)=C(O)C(C)=C2OC)=C(C)C(C)=C1C(O)=O',\n",
       "  'COC1=C(CSCC2=CC=CO2)C=C(C=NNS(=O)(=O)C2=CC=C(Br)C=C2)C=C1',\n",
       "  'COC1=C(Cl)C=C2C(=O)C(=C(C)NC2=C1)C1=CC=C(OC2=CC=C(OC(F)(F)F)C=C2)C=C1',\n",
       "  'COC1=C(NC2=NC=C(Cl)C(NC3C4CC(C=C4)C3C(N)=O)=N2)C=CC2=C1CCC(CC2)N1CCOCC1',\n",
       "  'COC1=C(O)C(C)=C(C(=O)OC2CC3=C(COC(C=CC)=C3)C(=O)C2(C)O)C(O)=C1',\n",
       "  'COC1=C(O)C=C(C=C1)C1=C(OC)C(=O)C2=C(O)C(OC)=C(OC)C=C2O1',\n",
       "  'COC1=C(O)C=C2OC(=C(OC)C(=O)C2=C1O)C1=CC(O)=C(O)C=C1',\n",
       "  'COC1=C(O)C=C2OC=C(C(=O)C2=C1O)C1=CC=C(O)C=C1',\n",
       "  'COC1=C(OC)C=C(C=C1)C1OC(C(C)C1C)C1=CC(OC)=C(OC)C=C1',\n",
       "  'COC1=C(OC)C=C2C3CC(OC(=O)C(N)C(C)C)C(CC(C)C)CN3CCC2=C1',\n",
       "  'COC1=C(OC2=NC=NC3=C2C=NN3C2=C(C)C=CC(Cl)=C2)C=CC(=C1)C(C)=O',\n",
       "  'COC1=C(OCCN2CCCC2)C=CC(=C1)N1C=NC2=C(SC(=C2)C2=CC=C(Cl)C=C2)C1=O',\n",
       "  'COC1=C2C(=O)C(=COC2=CC(O)=C1)C1=CC=C(O)C=C1',\n",
       "  'COC1=C2C(=O)C3=C(O)C=C(O)C=C3C(=O)C2=CC(CO)=C1',\n",
       "  'COC1=C2C=CC(=[O+]C2=CC(O)=C1C)C1=CC=CC=C1',\n",
       "  'COC1=CC(=CC(OC)=C1OC)C(=O)N(CCC1CCCN1C)CC(C)=CC1=CC=CC=C1F',\n",
       "  'COC1=CC(=O)OC(C=CC=CC=CC=CC2(C)OC(C)C(C)(O)C2O)=C1C',\n",
       "  'COC1=CC(C(=O)NC2=NC=C(Cl)C=C2)=C(NC(=O)C2=CC=C(C=C2)C(=N)N(C)C)C=C1',\n",
       "  'COC1=CC(C=CC(=O)N2CCC=CC2=O)=CC(OC)=C1OC',\n",
       "  'COC1=CC(O)=C2C(=O)C3=C(OC2=C1)C=C(O)C=C3C',\n",
       "  'COC1=CC2=C(C=C(N2)C(=O)NC(CC2=CC=CC=C2)C(=O)NCC2=CC=CO2)C=C1',\n",
       "  'COC1=CC=C(C=C1)C(=C1C(=O)NC2=CC=CC=C12)C1=CC=C(OC)C=C1',\n",
       "  'COC1=CC=C(C=C1)C(=O)NC(CC1=CC=CC=C1)C(O)=O',\n",
       "  'COC1=CC=C(NC2=NC3=NC=CN=C3C(NCC3=CC=CC=C3)=N2)C=C1',\n",
       "  'COC1=CC=CC2=C3C4=C(OCO4)C=C(C(O)=O)C3=C(C=C12)N(=O)=O',\n",
       "  'COC1=CC=CC=C1C1=CC(=O)C2=CC=CC=C2O1',\n",
       "  'COC1=NC(NC2=C(NC(C3=C4OC(F)(F)OC4=CC=C3)C3=C(Cl)C=CC=N3)C=CC(=C2)S(C)(=O)=O)=NC(=N1)N1CCNCC1',\n",
       "  'COC1=NC=NC(CN2C=C(C(=O)NCCO)C3=C2C=C(C)C=N3)=C1C',\n",
       "  'COC1=NN(C)C=C1C(=O)NC1=NC(=CS1)C1=CC(OC)=CC=C1',\n",
       "  'COC1=NN=C(C=C1)C(O)C1=C(Cl)C=C(F)C(=C1)C1=NC=NC2=C1C=CC(=C2)N1CCOCC1',\n",
       "  'COC1=[N+](N=CC(N)=C1)C1=CC=CC=C1',\n",
       "  'COC1C(O)C(OC2CCC3(C)C(CCC4C3CCC3(C)C(CCC43O)C3=CC(=O)OC3)C2)OC(C)C1OC1OC(COC2OC(CO)C(O)C(O)C2O)C(O)C(O)C1O',\n",
       "  'COC1CC(OC2CCC3(C)C(CCC4C3C(O)C(O)C3(C)C(CCC43O)C(C)OC(=O)C(C)=CC)C2)OC(C)C1OC1CC(OC)C(OC2CC(OC)C(OC3OC(C)C(OC4OC(CO)C(O)C(O)C4O)C(OC)C3O)C(C)O2)C(C)O1',\n",
       "  'COCCCNC1=NC(=NC2=C1C=NN2C)N1CCN(CC2=CC=CC=C2)CC1',\n",
       "  'COc1cccc2ccn(CCC(=O)NCCc3cn(C)c4ccccc34)c12',\n",
       "  'COc1ccccc1NC(=O)c1ccc(cc1)C(=O)Nc1ccccc1OC',\n",
       "  'CSCCC(NC(=O)C(Cc1ccccc1)NC(=O)CNC(=O)CNC(=O)C(N)Cc1ccc(O)cc1)C(O)=O',\n",
       "  'C[N+]1=C(\\\\C=N\\\\O)C=CC=C1',\n",
       "  'Cc1cc(NC(=O)COC(=O)c2cccc(NC(=O)C(F)(F)F)c2)no1',\n",
       "  'Cc1ccc(CNC(=O)CCC2=NNC3C4CC(NN4C=CN23)c2ccc(C)c(C)c2)o1',\n",
       "  'Cc1cnc(OC2CCN(CC2)S(=O)(=O)c2c(C)cc(C)cc2C)nc1',\n",
       "  'ClC1=C(Cl)C=C2N=C(NS(=O)(=O)C3=CC=CC=C3)NC2=C1',\n",
       "  'ClC1=CC=C(C=C1)C1(CCNCC1)C1=CC=C(C=C1)C1=CNN=C1',\n",
       "  'ClC1=CC=CC(CSC2=NN=C3C=CC(=NN23)C2=CC=CO2)=C1',\n",
       "  'ClC1=CN=C(NS(=O)(=O)C2=CC(=CS2)C2=NOC(=N2)C2CCCC2)C=C1',\n",
       "  'Cn1cnc2c(NCC(O)c3ccc4OCCc4c3)ncnc12',\n",
       "  'FC(F)(F)C1=CC=C(C=C1)N1N=NC(=N1)C(=O)NC1CCCC1',\n",
       "  'FC1=CN=C(C=C1)C1=NC=NC(=C1)C1=CC(Cl)=CC(=C1)C#N',\n",
       "  'FCC(=O)CNC(=O)C(CC1=CC=CC=C1)NC(=O)C1=CC=CC2=CC=CC=C12',\n",
       "  'IC1=CC=C(O1)C=NN1C(=O)C2C3C=CC(C2C1=O)C31CC1',\n",
       "  'N#CC1=C(NCC(N2CCOCC2)C2=CC=CC=C2)OC(CC2=CC=CC3=CC=CC=C23)=N1',\n",
       "  'NC(=N)NN=CC1=C(Cl)C=CC=C1Cl',\n",
       "  'NC(=O)NCCCC(NC(=O)CC1=CSC(=N1)C1=CC=CC=C1)C(O)=O',\n",
       "  'NC(=S)NN1C(CCC(O)=O)=CC=C1C1=CC=C(Br)C=C1',\n",
       "  'NC1=NC(=O)N(CC(CO)OCP(O)(O)=O)C=C1',\n",
       "  'NS(=O)(=O)C1=C(Cl)C=C2NC(CSCC3=CC=CC=C3)=NS(=O)(=O)C2=C1',\n",
       "  'O=C(CNC(=O)c1ccccc1)NC1CCN(CC1)c1nc2cccnc2s1',\n",
       "  'O=C(NC1=CC=CC2=C1N=CC=C2)C1=CC=C(C=C1)N1C(=O)C2C3CC(C=C3)C2C1=O',\n",
       "  'O=C(NC1=NC=CS1)C(CC1=CC=CC=C1)NC(=O)C1COC2=CC=CC=C2O1',\n",
       "  'O=C(NC1CCOCC1)C1=CC=C(C=C1)C1=NC=CC(=C1)C1=C(NN=C1)C1=CC=CC=N1',\n",
       "  'O=C(NCC1CCCCC1)C1=CC2=C(C=C1)N=CN=C2N1CCCC1',\n",
       "  'O=C(NCCC1=CCCCC1)C1=CC(=CC=C1)C(=O)NCCC1=CCCCC1',\n",
       "  'O=C1C2C(C3C(=O)CC2C2=CC=CC=C32)C(=O)N1C1=CN=CC=C1',\n",
       "  'O=C1NC2=C(C3=C(C=C2)N=CS3)C1=CC1=CN=CN1',\n",
       "  'O=S(=O)(C1CS(=O)(=O)CC1NCCC1=CNC2=CC=CC=C12)C1=CC=CC=C1',\n",
       "  'OC(=O)C(CC1=CC=C(O)C=C1)NC(=O)C=CC1=CC=C(O)C=C1',\n",
       "  'OC(=O)C(CC1=CC=CC=C1)N=C(O)CCN1C=CC2=C(Br)C=CC=C12',\n",
       "  'OC(=O)C(CC1=CC=CC=C1)NC(=O)C1=CC=C(F)C=C1',\n",
       "  'OC(=O)C(CC1=CNC2=C1C=C(O)C=C2)NC(=O)COC1=CC2=C(C=C1)C(=CC(=O)O2)C1=CC=CC=C1',\n",
       "  'OC(=O)C1=C(O)C=CC(NCC2=C(F)C(F)=C(C(F)=C2F)C(F)(F)F)=C1',\n",
       "  'OC(=O)C1=CC2=C(C=C1)N=C(S2)C1=CC=CC=C1Br',\n",
       "  'OC(=O)CC1=CC=C(CC2=CC(=NC(=C2)C(F)(F)F)C2=CC(Cl)=CC=C2)C=C1',\n",
       "  'OC(CC1=CSC(=N1)C1=CC(Br)=CC=C1)=NC(CC1=CNC2=CC=CC=C12)C(O)=O',\n",
       "  'OC(CN1CCN(CC1)C1=CC(Cl)=CC=C1)C(C1=CC=CC=C1)C1=CC=CC=C1',\n",
       "  'OC1=C(Br)C=C(Br)C2=C1N=CC=C2',\n",
       "  'OC1=CC(Cl)=C(I)C=C1NCC(=O)N1CCN(CC1)C(=O)C=C',\n",
       "  'OC1=CC2=C(C=C1)C(=O)N(C2)C1CCC(=O)NC1=O',\n",
       "  'OC1=CC=C(CCNC(=O)C=CC2=CC=C(O)C=C2)C=C1',\n",
       "  'OC1C(O)C(OC2=CC(O)=C3C(=O)C=C(OC3=C2)C2=CC=CC=C2)OC(C1O)C(O)=O',\n",
       "  'OCC(CC1=CC=CC=C1)NC1(CCCC1)C(O)=O',\n",
       "  'OCC1(O)COC(OCC2OC(OC3=CC4=C(C=CC(=O)O4)C=C3)C(O)C(O)C2O)C1O',\n",
       "  'OCC1OC(C(O)C(O)C1O)C1=C(O)C=CC(C(=O)C(O)CC2=CC=C(O)C=C2)=C1O',\n",
       "  'OCC1OC(C(O)C1O)N1C=NC2=C1N=CN=C2NCC1=CC=CO1',\n",
       "  'OCC1OC(OC2C(O)C(O)C(OC3=C(OC4=CC(O)=CC(O)=C4C3=O)C3=CC(O)=C(O)C=C3)OC2CO)C(O)C(O)C1O',\n",
       "  'OCCN1CC2(CCN(CC2)C2=NC3=C(CCCC3)C(=O)N2)c2c1cc(F)cc2F',\n",
       "  '[H]C(CC1=CC=CC=C1)(N=C(O)C1([H])CCC([H])(CC1)C(C)C)C(=O)N1CCC(CC1)C(O)=N',\n",
       "  '[H]C1(C)OC([H])(OCC2([H])OC([H])(OCC3(C)OC4=CC5=C(C(O)=C4C=C3)C(=O)C(=CO5)C3=CC=C(O)C=C3)C([H])(O)C([H])(O)C2([H])O)C([H])(O)C([H])(O)C1([H])O',\n",
       "  '[H]C1(CO)OC([H])(OC2=C(C=CC(O)=C2)C2=COC3=CC(OC)=CC(O)=C3C2=O)C([H])(O)C([H])(O)C1([H])O',\n",
       "  '[H]C12CC3([H])C4([H])CC=C5CC([H])(O)CC([H])(O)C5(C)C4([H])C([H])(O)CC3(C)C1([H])C(C)=C(CCC(=C)COC1([H])OC([H])(CO)C([H])(O)C([H])(O)C1([H])O)O2',\n",
       "  '[H]OC([H])([H])C1([H])OC([H])(OC2([H])OC([H])(C([H])([H])OC(=O)C([H])(C([H])([H])[H])C([H])([H])C([H])([H])[H])C([H])(O[H])C([H])(O[H])C2([H])O[H])C([H])(O[H])C([H])(O[H])C1([H])O[H]'},\n",
       " 2)"
      ]
     },
     "execution_count": 9,
     "metadata": {},
     "output_type": "execute_result"
    }
   ],
   "execution_count": 9
  },
  {
   "metadata": {
    "ExecuteTime": {
     "end_time": "2025-01-01T23:17:28.102690Z",
     "start_time": "2025-01-01T23:17:28.097592Z"
    }
   },
   "cell_type": "code",
   "source": "a = set(canonical_smiles_list) - set(existing_smiles[0])",
   "id": "1b6db6fdd1d01d5",
   "outputs": [],
   "execution_count": 10
  },
  {
   "metadata": {
    "ExecuteTime": {
     "end_time": "2025-01-01T23:17:29.162579Z",
     "start_time": "2025-01-01T23:17:29.158148Z"
    }
   },
   "cell_type": "code",
   "source": "len(a)",
   "id": "986b4178f91894df",
   "outputs": [
    {
     "data": {
      "text/plain": [
       "13971"
      ]
     },
     "execution_count": 11,
     "metadata": {},
     "output_type": "execute_result"
    }
   ],
   "execution_count": 11
  },
  {
   "metadata": {
    "ExecuteTime": {
     "end_time": "2025-01-01T23:18:11.500859Z",
     "start_time": "2025-01-01T23:18:11.455424Z"
    }
   },
   "cell_type": "code",
   "source": [
    "b = set()\n",
    "for smi in existing_smiles[0]:\n",
    "    tmp = MoleCule.from_smiles(smi).canonical_smiles\n",
    "    b.add(tmp)"
   ],
   "id": "4a7dcb9e4433bb38",
   "outputs": [],
   "execution_count": 12
  },
  {
   "metadata": {
    "ExecuteTime": {
     "end_time": "2025-01-01T23:18:13.613544Z",
     "start_time": "2025-01-01T23:18:13.610202Z"
    }
   },
   "cell_type": "code",
   "source": "c = set(canonical_smiles_list) - b",
   "id": "24f29964490bb417",
   "outputs": [],
   "execution_count": 13
  },
  {
   "metadata": {
    "ExecuteTime": {
     "end_time": "2025-01-01T23:18:15.090319Z",
     "start_time": "2025-01-01T23:18:15.087323Z"
    }
   },
   "cell_type": "code",
   "source": "len(c)",
   "id": "d74a10851441a072",
   "outputs": [
    {
     "data": {
      "text/plain": [
       "13691"
      ]
     },
     "execution_count": 14,
     "metadata": {},
     "output_type": "execute_result"
    }
   ],
   "execution_count": 14
  },
  {
   "metadata": {
    "ExecuteTime": {
     "end_time": "2025-01-01T23:18:34.322589Z",
     "start_time": "2025-01-01T23:18:34.318953Z"
    }
   },
   "cell_type": "code",
   "source": "len(set(canonical_smiles_list))",
   "id": "fb00bdf1cc0bdff",
   "outputs": [
    {
     "data": {
      "text/plain": [
       "13984"
      ]
     },
     "execution_count": 15,
     "metadata": {},
     "output_type": "execute_result"
    }
   ],
   "execution_count": 15
  },
  {
   "metadata": {
    "ExecuteTime": {
     "end_time": "2025-01-01T23:19:35.285535Z",
     "start_time": "2025-01-01T23:19:35.282729Z"
    }
   },
   "cell_type": "code",
   "source": "len(b)",
   "id": "43d47fbfbc1f80d8",
   "outputs": [
    {
     "data": {
      "text/plain": [
       "300"
      ]
     },
     "execution_count": 16,
     "metadata": {},
     "output_type": "execute_result"
    }
   ],
   "execution_count": 16
  },
  {
   "metadata": {
    "ExecuteTime": {
     "end_time": "2025-01-01T23:21:22.975530Z",
     "start_time": "2025-01-01T23:21:22.972696Z"
    }
   },
   "cell_type": "code",
   "source": "b & c",
   "id": "6ed6318502f16829",
   "outputs": [
    {
     "data": {
      "text/plain": [
       "set()"
      ]
     },
     "execution_count": 22,
     "metadata": {},
     "output_type": "execute_result"
    }
   ],
   "execution_count": 22
  },
  {
   "metadata": {
    "ExecuteTime": {
     "end_time": "2025-01-01T23:23:33.973215Z",
     "start_time": "2025-01-01T23:23:33.970218Z"
    }
   },
   "cell_type": "code",
   "source": "weird = c - set(canonical_smiles_list) ",
   "id": "b0f83932822d9b55",
   "outputs": [],
   "execution_count": 23
  },
  {
   "metadata": {
    "ExecuteTime": {
     "end_time": "2025-01-01T23:23:36.891314Z",
     "start_time": "2025-01-01T23:23:36.888541Z"
    }
   },
   "cell_type": "code",
   "source": "weird",
   "id": "7584d909dae93c39",
   "outputs": [
    {
     "data": {
      "text/plain": [
       "set()"
      ]
     },
     "execution_count": 24,
     "metadata": {},
     "output_type": "execute_result"
    }
   ],
   "execution_count": 24
  },
  {
   "metadata": {},
   "cell_type": "code",
   "outputs": [],
   "execution_count": null,
   "source": "",
   "id": "4fa9e65396e46a6"
  },
  {
   "metadata": {
    "ExecuteTime": {
     "end_time": "2025-01-01T16:45:55.183266Z",
     "start_time": "2025-01-01T16:45:55.175544Z"
    }
   },
   "cell_type": "code",
   "source": "",
   "id": "d7eebe14734d8865",
   "outputs": [],
   "execution_count": 8
  },
  {
   "metadata": {},
   "cell_type": "code",
   "outputs": [],
   "execution_count": null,
   "source": [
    "def load_existing_results(output_dir):\n",
    "    \"\"\"\n",
    "    Loads existing intermediate JSON files and returns a set of already processed SMILES.\n",
    "    \"\"\"\n",
    "    merged_results = {}\n",
    "    if not os.path.exists(output_dir):\n",
    "        return merged_results\n",
    "    for file in os.listdir(output_dir):\n",
    "        if file.startswith('intermediate_') and file.endswith('.json'):\n",
    "            with open(os.path.join(output_dir, file), 'r') as f:\n",
    "                data = json.load(f)\n",
    "                merged_results.update(data)\n",
    "    return merged_results"
   ],
   "id": "6061ede26d6bae07"
  },
  {
   "metadata": {},
   "cell_type": "code",
   "outputs": [],
   "execution_count": null,
   "source": "",
   "id": "bbe1fefbb2996c26"
  },
  {
   "metadata": {},
   "cell_type": "code",
   "outputs": [],
   "execution_count": null,
   "source": "",
   "id": "2d1308c683969d33"
  },
  {
   "metadata": {},
   "cell_type": "code",
   "outputs": [],
   "execution_count": null,
   "source": "",
   "id": "a779e2d87ec4169b"
  },
  {
   "metadata": {},
   "cell_type": "code",
   "outputs": [],
   "execution_count": null,
   "source": [
    "def merge_intermediate_results(intermediate_files):\n",
    "    \"\"\"\n",
    "    Merges multiple intermediate JSON result files into a single dictionary.\n",
    "\n",
    "    Parameters:\n",
    "    - intermediate_files (list): List of file paths to intermediate JSON files.\n",
    "\n",
    "    Returns:\n",
    "    - merged_results (dict): Merged classification results.\n",
    "    \"\"\"\n",
    "    merged_results = {}\n",
    "    for file in intermediate_files:\n",
    "        try:\n",
    "            with open(file, 'r') as f:\n",
    "                data = json.load(f)\n",
    "                merged_results.update(data)\n",
    "            logging.info(f\"Successfully merged results from {file}\")\n",
    "            print(f\"Successfully merged results from {file}\")\n",
    "        except Exception as e:\n",
    "            logging.error(f\"Error merging results from {file}: {e}\")\n",
    "            print(f\"Error merging results from {file}: {e}\")\n",
    "    return merged_results"
   ],
   "id": "b11b30d762792b7b"
  },
  {
   "metadata": {},
   "cell_type": "code",
   "outputs": [],
   "execution_count": null,
   "source": [
    "# Merge all intermediate results\n",
    "merged_results = merge_intermediate_results(intermediate_files)\n",
    "\n",
    "# Display the number of classified SMILES\n",
    "classified_count = len(merged_results)\n",
    "print(f\"Total number of classified SMILES: {classified_count}\")"
   ],
   "id": "a00621491e034c38"
  },
  {
   "metadata": {},
   "cell_type": "code",
   "outputs": [],
   "execution_count": null,
   "source": [
    "# Convert the merged results dictionary to a DataFrame\n",
    "# The dictionary keys are canonical SMILES, and values are classification details\n",
    "results_df = pd.DataFrame.from_dict(merged_results, orient='index')\n",
    "results_df.reset_index(inplace=True)\n",
    "results_df.rename(columns={'index': 'Canonical_SMILES'}, inplace=True)\n",
    "\n",
    "# Display the first few entries of the results\n",
    "results_df.head()"
   ],
   "id": "8493792452e163a8"
  },
  {
   "metadata": {},
   "cell_type": "code",
   "outputs": [],
   "execution_count": null,
   "source": [
    "# Merge the classification results with the original SMILES DataFrame\n",
    "annotated_df = pd.merge(smiles_df, results_df, on='Canonical_SMILES', how='left')\n",
    "\n",
    "# Display the merged DataFrame\n",
    "annotated_df.head()"
   ],
   "id": "65ea0ae0b173b7d0"
  },
  {
   "metadata": {},
   "cell_type": "code",
   "outputs": [],
   "execution_count": null,
   "source": [
    "# Check for any SMILES that did not receive a classification\n",
    "unclassified = annotated_df['superclass'].isnull().sum()\n",
    "print(f\"Number of SMILES without classification: {unclassified}\")\n",
    "\n",
    "# Optionally, handle unclassified SMILES (e.g., mark as 'Unknown')\n",
    "annotated_df['superclass'].fillna('Unknown', inplace=True)\n",
    "annotated_df['class'].fillna('Unknown', inplace=True)\n",
    "annotated_df['subclass'].fillna('Unknown', inplace=True)"
   ],
   "id": "2bca5b8bdfa9e77f"
  },
  {
   "metadata": {},
   "cell_type": "code",
   "outputs": [],
   "execution_count": null,
   "source": [
    "# Define the output path for the annotated data\n",
    "final_output_path = '/Users/macbook/CODE/PyClassyFire/data/classified_smiles.tsv'\n",
    "\n",
    "# Save the annotated DataFrame to a TSV file\n",
    "annotated_df.to_csv(final_output_path, sep='\\t', index=False)\n",
    "\n",
    "print(f\"Annotated data has been saved to {final_output_path}\")"
   ],
   "id": "d40de108bff0d174"
  },
  {
   "metadata": {},
   "cell_type": "code",
   "outputs": [],
   "execution_count": null,
   "source": "",
   "id": "526277c51edb36ec"
  },
  {
   "metadata": {},
   "cell_type": "code",
   "outputs": [],
   "execution_count": null,
   "source": "",
   "id": "519532d392eb86e6"
  },
  {
   "metadata": {},
   "cell_type": "code",
   "outputs": [],
   "execution_count": null,
   "source": "",
   "id": "2d6e2ab44ef34e26"
  },
  {
   "metadata": {},
   "cell_type": "code",
   "outputs": [],
   "execution_count": null,
   "source": "",
   "id": "c7975a504b0bde0f"
  },
  {
   "metadata": {},
   "cell_type": "code",
   "outputs": [],
   "execution_count": null,
   "source": "",
   "id": "1258ae2af314c20d"
  }
 ],
 "metadata": {
  "kernelspec": {
   "display_name": "Python 3",
   "language": "python",
   "name": "python3"
  },
  "language_info": {
   "codemirror_mode": {
    "name": "ipython",
    "version": 2
   },
   "file_extension": ".py",
   "mimetype": "text/x-python",
   "name": "python",
   "nbconvert_exporter": "python",
   "pygments_lexer": "ipython2",
   "version": "2.7.6"
  }
 },
 "nbformat": 4,
 "nbformat_minor": 5
}
