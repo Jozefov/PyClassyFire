{
 "cells": [
  {
   "metadata": {},
   "cell_type": "markdown",
   "source": [
    "# PyClassyFire Tutorial: Classifying Chemical Compounds Using the ClassyFire API\n",
    "\n",
    "\n",
    "## Introduction\n",
    "\n",
    "Welcome to the **PyClassyFire** tutorial! This guide will walk you through the process of classifying a large set of chemical compounds using the [ClassyFire](http://classyfire.wishartlab.com/) API. We'll utilize the `PyClassyFire` package, which provides a command-line interface (CLI) and programmatic access to the ClassyFire service, enabling efficient and scalable classification of chemical structures.\n",
    "\n",
    "By the end of this tutorial, you'll be able to:\n",
    "\n",
    "1. **Preprocess your SMILES data**: Prepare your unique SMILES strings for classification.\n",
    "2. **Submit classification jobs**: Use the `PyClassyFire` package to send your data to the ClassyFire API.\n",
    "3. **Retrieve and process results**: Collect the classification results and merge them with your original data.\n",
    "4. **Save the annotated data**: Store the enriched dataset for further analysis.\n",
    "\n",
    "Let's get started!\n",
    "\n",
    "## Prerequisites\n",
    "\n",
    "Before diving into the tutorial, ensure you have the following:\n",
    "\n",
    "- **Conda Environment**: A Conda environment named `classyfire_env` with all necessary dependencies installed.\n",
    "- **PyClassyFire Package**: Installed and accessible within your Conda environment.\n",
    "- **Unique SMILES Data**: A TSV file containing approximately 16,000 unique SMILES strings located at `/Users/macbook/CODE/PyClassyFire/data/unique_valid_smiles_no_header.tsv`.\n",
    "\n",
    "> **Note:** This tutorial assumes that the Conda environment and `PyClassyFire` package are already set up. If not, please refer to the [repository's README](https://github.com/yourusername/PyClassyFire) for setup instructions.\n",
    "\n",
    "## Table of Contents\n",
    "\n",
    "1. [Importing Necessary Libraries](#importing-libraries)\n",
    "2. [Loading and Exploring the Data](#loading-data)\n",
    "3. [Preparing the SMILES Data for Classification](#preparing-data)\n",
    "4. [Submitting Classification Jobs to ClassyFire API](#submitting-jobs)\n",
    "5. [Monitoring Job Progress](#monitoring-progress)\n",
    "6. [Retrieving and Processing Results](#retrieving-results)\n",
    "7. [Saving the Annotated Data](#saving-data)\n",
    "8. [Conclusion](#conclusion)\n"
   ],
   "id": "82b5bab971f2733b"
  },
  {
   "cell_type": "code",
   "id": "initial_id",
   "metadata": {
    "collapsed": true,
    "ExecuteTime": {
     "end_time": "2025-01-01T16:14:49.886661Z",
     "start_time": "2025-01-01T16:14:49.222166Z"
    }
   },
   "source": [
    "import os\n",
    "import pandas as pd\n",
    "import json\n",
    "import time\n",
    "\n",
    "# Import classes and functions from PyClassyFire\n",
    "from classyfire_cli.src.batch import Job, Scheduler\n",
    "from classyfire_cli.src.utils import MoleCule, chunk_tasks"
   ],
   "outputs": [],
   "execution_count": 1
  },
  {
   "metadata": {
    "ExecuteTime": {
     "end_time": "2025-01-01T16:15:08.986261Z",
     "start_time": "2025-01-01T16:15:08.960994Z"
    }
   },
   "cell_type": "code",
   "source": [
    "# Define the path to the unique SMILES TSV file\n",
    "smiles_file_path = '../data/unique_valid_smiles_no_header.tsv'\n",
    "\n",
    "# Load the SMILES data into a pandas DataFrame\n",
    "# Since the TSV is headless, we'll assign a column name 'SMILES'\n",
    "smiles_df = pd.read_csv(smiles_file_path, sep='\\t', header=None, names=['SMILES'])\n",
    "\n",
    "# Display the first few entries\n",
    "smiles_df.head()"
   ],
   "id": "afbafdb7a69c2e6a",
   "outputs": [
    {
     "data": {
      "text/plain": [
       "                                              SMILES\n",
       "0  COC1=C(C=CC(=C1)C(=O)O)O[C@H]2[C@@H]([C@H]([C@...\n",
       "1               CCCCC(=O)O[C@H](CC(=O)O)C[N+](C)(C)C\n",
       "2    CCN1C=C(C(=N1)C(=O)N)NC(=S)NC2=C(C=CC(=C2)Cl)OC\n",
       "3  COC1=C(C=CC(=C1)/C=N\\NC2=CC=CC=C2C(=O)O)OCC3=C...\n",
       "4               CCOC(=O)CSC1=NN=C(N1C)C2=CN(N=C2OC)C"
      ],
      "text/html": [
       "<div>\n",
       "<style scoped>\n",
       "    .dataframe tbody tr th:only-of-type {\n",
       "        vertical-align: middle;\n",
       "    }\n",
       "\n",
       "    .dataframe tbody tr th {\n",
       "        vertical-align: top;\n",
       "    }\n",
       "\n",
       "    .dataframe thead th {\n",
       "        text-align: right;\n",
       "    }\n",
       "</style>\n",
       "<table border=\"1\" class=\"dataframe\">\n",
       "  <thead>\n",
       "    <tr style=\"text-align: right;\">\n",
       "      <th></th>\n",
       "      <th>SMILES</th>\n",
       "    </tr>\n",
       "  </thead>\n",
       "  <tbody>\n",
       "    <tr>\n",
       "      <th>0</th>\n",
       "      <td>COC1=C(C=CC(=C1)C(=O)O)O[C@H]2[C@@H]([C@H]([C@...</td>\n",
       "    </tr>\n",
       "    <tr>\n",
       "      <th>1</th>\n",
       "      <td>CCCCC(=O)O[C@H](CC(=O)O)C[N+](C)(C)C</td>\n",
       "    </tr>\n",
       "    <tr>\n",
       "      <th>2</th>\n",
       "      <td>CCN1C=C(C(=N1)C(=O)N)NC(=S)NC2=C(C=CC(=C2)Cl)OC</td>\n",
       "    </tr>\n",
       "    <tr>\n",
       "      <th>3</th>\n",
       "      <td>COC1=C(C=CC(=C1)/C=N\\NC2=CC=CC=C2C(=O)O)OCC3=C...</td>\n",
       "    </tr>\n",
       "    <tr>\n",
       "      <th>4</th>\n",
       "      <td>CCOC(=O)CSC1=NN=C(N1C)C2=CN(N=C2OC)C</td>\n",
       "    </tr>\n",
       "  </tbody>\n",
       "</table>\n",
       "</div>"
      ]
     },
     "execution_count": 2,
     "metadata": {},
     "output_type": "execute_result"
    }
   ],
   "execution_count": 2
  },
  {
   "metadata": {
    "ExecuteTime": {
     "end_time": "2025-01-01T16:15:17.302949Z",
     "start_time": "2025-01-01T16:15:17.291984Z"
    }
   },
   "cell_type": "code",
   "source": [
    "# Check the number of unique SMILES\n",
    "unique_smiles_count = smiles_df['SMILES'].nunique()\n",
    "print(f\"Total unique SMILES in the dataset: {unique_smiles_count}\")"
   ],
   "id": "54e7162949f396e4",
   "outputs": [
    {
     "name": "stdout",
     "output_type": "stream",
     "text": [
      "Total unique SMILES in the dataset: 13984\n"
     ]
    }
   ],
   "execution_count": 3
  },
  {
   "metadata": {},
   "cell_type": "code",
   "outputs": [],
   "execution_count": null,
   "source": [
    "# Function to convert SMILES to canonical SMILES using RDKit\n",
    "def canonicalize_smiles(smiles):\n",
    "    try:\n",
    "        molecule = MoleCule.from_smiles(smiles)\n",
    "        return molecule.canonical_smiles\n",
    "    except:\n",
    "        return None"
   ],
   "id": "ddd2aeb08beeb1e3"
  },
  {
   "metadata": {
    "ExecuteTime": {
     "end_time": "2025-01-01T16:16:41.164422Z",
     "start_time": "2025-01-01T16:16:39.294026Z"
    }
   },
   "cell_type": "code",
   "source": [
    "smiles_df['Canonical_SMILES'] = smiles_df['SMILES'].apply(canonicalize_smiles)\n",
    "\n",
    "# Remove any entries that failed canonicalization\n",
    "invalid_smiles = smiles_df['Canonical_SMILES'].isnull().sum()\n",
    "print(f\"Number of invalid SMILES after canonicalization: {invalid_smiles}\")\n",
    "\n",
    "if invalid_smiles > 0:\n",
    "    smiles_df = smiles_df.dropna(subset=['Canonical_SMILES'])\n",
    "    print(f\"Removed {invalid_smiles} invalid SMILES entries.\")"
   ],
   "id": "2e2d3d4f8b60398a",
   "outputs": [
    {
     "name": "stdout",
     "output_type": "stream",
     "text": [
      "Number of invalid SMILES after canonicalization: 0\n"
     ]
    }
   ],
   "execution_count": 5
  },
  {
   "metadata": {
    "ExecuteTime": {
     "end_time": "2025-01-01T16:16:50.069662Z",
     "start_time": "2025-01-01T16:16:50.067094Z"
    }
   },
   "cell_type": "code",
   "source": [
    "# Reset index after cleaning\n",
    "smiles_df.reset_index(drop=True, inplace=True)"
   ],
   "id": "196a56f895333d5b",
   "outputs": [],
   "execution_count": 6
  },
  {
   "metadata": {
    "ExecuteTime": {
     "end_time": "2025-01-01T16:17:29.299894Z",
     "start_time": "2025-01-01T16:17:29.296084Z"
    }
   },
   "cell_type": "code",
   "source": [
    "# Extract the list of canonical SMILES\n",
    "canonical_smiles_list = smiles_df['Canonical_SMILES'].tolist()\n",
    "\n",
    "# Define the batch size (number of SMILES per job)\n",
    "batch_size = 100  # Adjust based on API limitations and performance\n",
    "\n",
    "# Create batches using the chunk_tasks utility function\n",
    "batches = chunk_tasks(canonical_smiles_list, batch_size)\n",
    "\n",
    "# Create Job instances for each batch\n",
    "jobs = [Job(batch) for batch in batches]\n",
    "\n",
    "print(f\"Total number of jobs created: {len(jobs)}\")"
   ],
   "id": "d33bd99300af4cef",
   "outputs": [
    {
     "name": "stdout",
     "output_type": "stream",
     "text": [
      "Total number of jobs created: 140\n"
     ]
    }
   ],
   "execution_count": 7
  },
  {
   "metadata": {
    "ExecuteTime": {
     "end_time": "2025-01-01T16:17:45.254568Z",
     "start_time": "2025-01-01T16:17:45.252077Z"
    }
   },
   "cell_type": "code",
   "source": [
    "# Initialize the Scheduler with the list of jobs\n",
    "scheduler = Scheduler(jobs)"
   ],
   "id": "d77ec92b787d77b1",
   "outputs": [],
   "execution_count": 8
  },
  {
   "metadata": {
    "jupyter": {
     "is_executing": true
    },
    "ExecuteTime": {
     "start_time": "2025-01-01T16:17:54.688728Z"
    }
   },
   "cell_type": "code",
   "source": [
    "# Start the classification process\n",
    "print(\"Submitting classification jobs to the ClassyFire API...\")\n",
    "scheduler.run()\n",
    "print(\"All jobs have been processed.\")"
   ],
   "id": "5a5386e4a1093fa1",
   "outputs": [
    {
     "name": "stdout",
     "output_type": "stream",
     "text": [
      "Submitting classification jobs to the ClassyFire API...\n"
     ]
    },
    {
     "name": "stderr",
     "output_type": "stream",
     "text": [
      "  1%|▏         | 2/140 [05:10<6:01:23, 157.13s/it]"
     ]
    }
   ],
   "execution_count": null
  },
  {
   "metadata": {},
   "cell_type": "code",
   "outputs": [],
   "execution_count": null,
   "source": [
    "# Export the results from the Scheduler\n",
    "classification_results = scheduler.export()\n",
    "\n",
    "# Convert the results dictionary to a DataFrame\n",
    "# The dictionary keys are canonical SMILES, and values are classification details\n",
    "results_df = pd.DataFrame.from_dict(classification_results, orient='index')\n",
    "results_df.reset_index(inplace=True)\n",
    "results_df.rename(columns={'index': 'Canonical_SMILES'}, inplace=True)\n",
    "\n",
    "# Display the first few entries of the results\n",
    "results_df.head()"
   ],
   "id": "700262fd251dc3e0"
  },
  {
   "metadata": {},
   "cell_type": "code",
   "outputs": [],
   "execution_count": null,
   "source": [
    "# Merge the classification results with the original SMILES DataFrame\n",
    "annotated_df = pd.merge(smiles_df, results_df, on='Canonical_SMILES', how='left')\n",
    "\n",
    "# Display the merged DataFrame\n",
    "annotated_df.head()"
   ],
   "id": "d7e79d8d7777587d"
  },
  {
   "metadata": {},
   "cell_type": "code",
   "outputs": [],
   "execution_count": null,
   "source": [
    "# Check for any SMILES that did not receive a classification\n",
    "unclassified = annotated_df['superclass'].isnull().sum()\n",
    "print(f\"Number of SMILES without classification: {unclassified}\")\n",
    "\n",
    "# Optionally, handle unclassified SMILES (e.g., mark as 'Unknown')\n",
    "annotated_df['superclass'].fillna('Unknown', inplace=True)\n",
    "annotated_df['class'].fillna('Unknown', inplace=True)\n",
    "annotated_df['subclass'].fillna('Unknown', inplace=True)"
   ],
   "id": "fbc3dd4baea4b52b"
  },
  {
   "metadata": {},
   "cell_type": "code",
   "outputs": [],
   "execution_count": null,
   "source": [
    "# Define the output path for the annotated data\n",
    "output_file_path = '../data/classified_smiles.tsv'\n",
    "\n",
    "# Save the annotated DataFrame to a TSV file\n",
    "annotated_df.to_csv(output_file_path, sep='\\t', index=False)\n",
    "\n",
    "print(f\"Annotated data has been saved to {output_file_path}\")"
   ],
   "id": "1d2e7940b156e40e"
  },
  {
   "metadata": {},
   "cell_type": "code",
   "outputs": [],
   "execution_count": null,
   "source": "",
   "id": "c3749dd4dc6f47ed"
  },
  {
   "metadata": {},
   "cell_type": "code",
   "outputs": [],
   "execution_count": null,
   "source": "",
   "id": "1258ae2af314c20d"
  }
 ],
 "metadata": {
  "kernelspec": {
   "display_name": "Python 3",
   "language": "python",
   "name": "python3"
  },
  "language_info": {
   "codemirror_mode": {
    "name": "ipython",
    "version": 2
   },
   "file_extension": ".py",
   "mimetype": "text/x-python",
   "name": "python",
   "nbconvert_exporter": "python",
   "pygments_lexer": "ipython2",
   "version": "2.7.6"
  }
 },
 "nbformat": 4,
 "nbformat_minor": 5
}
